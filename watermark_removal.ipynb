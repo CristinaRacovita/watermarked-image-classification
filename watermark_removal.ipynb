{
 "cells": [
  {
   "cell_type": "markdown",
   "id": "c8e10b32-7257-4b21-9b31-81951eeec608",
   "metadata": {
    "tags": [],
    "user_expressions": []
   },
   "source": [
    "# Implement IWRU-net for Watermark Removal"
   ]
  },
  {
   "cell_type": "code",
   "execution_count": 2,
   "id": "d831345a-d190-429f-803b-cb4b5b46c534",
   "metadata": {},
   "outputs": [],
   "source": [
    "import torch\n",
    "import torch.nn as nn"
   ]
  },
  {
   "cell_type": "markdown",
   "id": "5a259938-378f-4186-8698-cb03a4aa081d",
   "metadata": {
    "user_expressions": []
   },
   "source": [
    "## Define the architecture"
   ]
  },
  {
   "cell_type": "code",
   "execution_count": null,
   "id": "5543be49-bde3-4add-919b-46267f739494",
   "metadata": {},
   "outputs": [],
   "source": [
    "class ConvRelu(nn.Module):\n",
    "    def __init__(self, channels_in, channels_out, kernel_size=3, padding=1, bias=False):\n",
    "        super(ConvRelu, self).__init__()\n",
    "\n",
    "        self.conv_relu = nn.Sequential(\n",
    "            nn.Conv2d(\n",
    "                channels_in,\n",
    "                channels_out,\n",
    "                kernel_size=kernel_size,\n",
    "                padding=padding,\n",
    "                bias=bias,\n",
    "            ),\n",
    "            nn.ReLU(inplace=True),\n",
    "        )\n",
    "\n",
    "    def forward(self, x):\n",
    "        return self.conv_relu(x)\n"
   ]
  },
  {
   "cell_type": "code",
   "execution_count": null,
   "id": "33c7efc9-c657-4b4b-a24d-86a2fb962f07",
   "metadata": {},
   "outputs": [],
   "source": [
    "class UNet(nn.Module):\n",
    "    def __init__(self):\n",
    "        super(UNet, self).__init__()\n",
    "\n",
    "    def forward(self, x):\n",
    "        pass"
   ]
  }
 ],
 "metadata": {
  "kernelspec": {
   "display_name": "Python",
   "language": "python",
   "name": "python3"
  },
  "language_info": {
   "codemirror_mode": {
    "name": "ipython",
    "version": 3
   },
   "file_extension": ".py",
   "mimetype": "text/x-python",
   "name": "python",
   "nbconvert_exporter": "python",
   "pygments_lexer": "ipython3",
   "version": "3.8.10"
  }
 },
 "nbformat": 4,
 "nbformat_minor": 5
}
