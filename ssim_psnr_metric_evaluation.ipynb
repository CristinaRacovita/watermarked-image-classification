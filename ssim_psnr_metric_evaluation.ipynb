{
 "cells": [
  {
   "cell_type": "code",
   "execution_count": 1,
   "id": "a8d0bebf-b6fb-477f-8c73-58adf404ffb6",
   "metadata": {
    "tags": []
   },
   "outputs": [],
   "source": [
    "import os\n",
    "import cv2\n",
    "import random\n",
    "import numpy as np\n",
    "from skimage.metrics import structural_similarity as ssim"
   ]
  },
  {
   "cell_type": "code",
   "execution_count": 2,
   "id": "39e6c512-83ad-4c68-af08-65d691ce67f5",
   "metadata": {
    "tags": []
   },
   "outputs": [],
   "source": [
    "def calculate_psnr_pair(original, reconstructed):\n",
    "    # Calculate PSNR for a single pair of images.\n",
    "\n",
    "    # Ensure images are in float32 format for calculations\n",
    "    original = original.astype(np.float32) / 255.0\n",
    "    reconstructed = reconstructed.astype(np.float32) / 255.0\n",
    "\n",
    "    mse = np.mean((original - reconstructed) ** 2)\n",
    "    if mse == 0:  # Perfect match\n",
    "        return float('inf')\n",
    "    max_pixel = 1.0  # Adjust max_pixel for normalized range\n",
    "    psnr = 20 * np.log10(max_pixel / np.sqrt(mse))\n",
    "    return psnr\n",
    "\n",
    "def calculate_nc_pair(original, reconstructed):\n",
    "    \"\"\"\n",
    "    Calculate Normalized Correlation (NC) for a single pair of images.\n",
    "    Args:\n",
    "        original (np.ndarray): Original image (ground truth).\n",
    "        reconstructed (np.ndarray): Watermark-removed image.\n",
    "    Returns:\n",
    "        float: NC value between 0 and 1.\n",
    "    \"\"\"\n",
    "    # Normalize pixel values to [0, 1]\n",
    "    original = original.astype(np.float32) / 255.0\n",
    "    reconstructed = reconstructed.astype(np.float32) / 255.0\n",
    "\n",
    "    numerator = np.sum(original * reconstructed)\n",
    "    denominator = np.sqrt(np.sum(original ** 2) * np.sum(reconstructed ** 2))\n",
    "    return numerator / denominator if denominator != 0 else 0\n",
    "\n",
    "def calculate_ssim_pair(original, reconstructed):\n",
    "    \"\"\"\n",
    "    Calculate Structural Similarity Index (SSIM) for a single pair of images.\n",
    "    Args:\n",
    "        original (np.ndarray): Original image (ground truth).\n",
    "        reconstructed (np.ndarray): Watermark-removed image.\n",
    "    Returns:\n",
    "        float: SSIM value between -1 and 1 (1 indicates perfect similarity).\n",
    "    \"\"\"\n",
    "    # Ensure images are grayscale\n",
    "    if len(original.shape) == 3:\n",
    "        original = cv2.cvtColor(original, cv2.COLOR_BGR2GRAY)\n",
    "    if len(reconstructed.shape) == 3:\n",
    "        reconstructed = cv2.cvtColor(reconstructed, cv2.COLOR_BGR2GRAY)\n",
    "    \n",
    "    return ssim(original, reconstructed, data_range=reconstructed.max() - reconstructed.min())\n",
    "\n",
    "def test_pairwise_metrics(original_path, reconstructed_path):\n",
    "    # Computing PSNR, NC, and SSIM calculations on a single image pair.\n",
    "\n",
    "    original = cv2.imread(original_path, cv2.IMREAD_GRAYSCALE)\n",
    "    reconstructed = cv2.imread(reconstructed_path, cv2.IMREAD_GRAYSCALE)\n",
    "    if original is None or reconstructed is None:\n",
    "        raise ValueError(\"Error loading one or both images.\")\n",
    "\n",
    "    psnr = calculate_psnr_pair(original, reconstructed)\n",
    "    nc = calculate_nc_pair(original, reconstructed)\n",
    "    ssim_value = calculate_ssim_pair(original, reconstructed)\n",
    "\n",
    "    print(f\"Metrics for the selected image pair:\")\n",
    "    print(f\"Original: {original_path}\")\n",
    "    print(f\"Reconstructed: {reconstructed_path}\")\n",
    "    print(f\"PSNR: {psnr:.2f} dB\")\n",
    "    print(f\"NC: {nc:.4f}\")\n",
    "    print(f\"SSIM: {ssim_value:.4f}\")\n",
    "\n",
    "def get_random_image_pair(original_dir, reconstructed_dir):\n",
    "    # Ensure only files that exist in both directories are paired\n",
    "    original_files = set(sorted(os.listdir(original_dir)))\n",
    "    reconstructed_files = set(sorted(os.listdir(reconstructed_dir)))\n",
    "    common_files = sorted(original_files & reconstructed_files)  # Only common files\n",
    "\n",
    "    if not common_files:\n",
    "        raise ValueError(\"No common files found between directories.\")\n",
    "\n",
    "    # Pick a random file from the common set\n",
    "    random_file = random.choice(common_files)\n",
    "    original_path = os.path.join(original_dir, random_file)\n",
    "    reconstructed_path = os.path.join(reconstructed_dir, random_file)\n",
    "    return original_path, reconstructed_path"
   ]
  },
  {
   "cell_type": "code",
   "execution_count": 3,
   "id": "88eb2aa2-c1f2-4a46-869f-aa50215b2c76",
   "metadata": {
    "tags": []
   },
   "outputs": [
    {
     "name": "stdout",
     "output_type": "stream",
     "text": [
      "Metrics for the selected image pair:\n",
      "Original: /home/jovyan/fresh_clean_dataset/data/resized_images/test/newfoundland_38.jpg\n",
      "Reconstructed: /home/jovyan/ML2 New/watermark_removal_experiments/large_unet/images_cleaned_10r_large_model/test/newfoundland_38.jpg\n",
      "PSNR: 34.99 dB\n",
      "NC: 0.9996\n",
      "SSIM: 0.9686\n"
     ]
    }
   ],
   "source": [
    "# Usage: Comparing Random Image Pairs\n",
    "if __name__ == \"__main__\":\n",
    "    original_dir = \"/home/jovyan/fresh_clean_dataset/data/resized_images/test\"  # REPLACE and POINT to ORIGINAL images folder\n",
    "    #reconstructed_dir = \"/home/jovyan/fresh_clean_dataset/data/images_cleaned/trainval\"  # REPLACE and POINT to RECONSTRUCTED images folder\n",
    "    reconstructed_dir = \"/home/jovyan/ML2 New/watermark_removal_experiments/large_unet/images_cleaned_10r_large_model/test\"  # REPLACE and POINT to RECONSTRUCTED images folder\n",
    "    \n",
    "    original_path, reconstructed_path = get_random_image_pair(original_dir, reconstructed_dir)\n",
    "    test_pairwise_metrics(original_path, reconstructed_path)"
   ]
  },
  {
   "cell_type": "code",
   "execution_count": 5,
   "id": "2bee55d5-348e-459f-bfc7-7ed747691693",
   "metadata": {
    "tags": []
   },
   "outputs": [
    {
     "name": "stdout",
     "output_type": "stream",
     "text": [
      "\n",
      "Calculating average metrics across all image pairs...\n",
      "\n",
      "Overall Metrics for the Dataset:\n",
      "Average PSNR: 31.35 dB\n",
      "Average NC: 0.9980\n",
      "Average SSIM: 0.9364\n"
     ]
    }
   ],
   "source": [
    "# For DATASET WIDE AVERAGES\n",
    "\n",
    "def calculate_average_metrics(original_dir, reconstructed_dir):\n",
    "\n",
    "    def filter_images(file_list):\n",
    "        valid_extensions = (\".jpg\", \".jpeg\", \".png\", \".bmp\", \".tiff\")\n",
    "        return [f for f in file_list if f.lower().endswith(valid_extensions)]\n",
    "\n",
    "    # Filter files to include only valid images\n",
    "    original_files = sorted(filter_images(os.listdir(original_dir)))\n",
    "    reconstructed_files = sorted(filter_images(os.listdir(reconstructed_dir)))\n",
    "\n",
    "    if not original_files or not reconstructed_files:\n",
    "        raise ValueError(\"One or both directories are empty or contain no valid image files.\")\n",
    "\n",
    "    psnr_values = []\n",
    "    nc_values = []\n",
    "    ssim_values = []  # NEW: List to store SSIM values\n",
    "\n",
    "    for original_file, reconstructed_file in zip(original_files, reconstructed_files):\n",
    "        original_path = os.path.join(original_dir, original_file)\n",
    "        reconstructed_path = os.path.join(reconstructed_dir, reconstructed_file)\n",
    "\n",
    "        original = cv2.imread(original_path, cv2.IMREAD_GRAYSCALE)\n",
    "        reconstructed = cv2.imread(reconstructed_path, cv2.IMREAD_GRAYSCALE)\n",
    "        if original is None or reconstructed is None:\n",
    "            print(f\"Warning: Could not load pair ({original_path}, {reconstructed_path}). Skipping...\")\n",
    "            continue\n",
    "\n",
    "        # Reusing functions\n",
    "        psnr = calculate_psnr_pair(original, reconstructed)\n",
    "        nc = calculate_nc_pair(original, reconstructed)\n",
    "        ssim_value = calculate_ssim_pair(original, reconstructed)  # NEW: Calculate SSIM\n",
    "\n",
    "        psnr_values.append(psnr)\n",
    "        nc_values.append(nc)\n",
    "        ssim_values.append(ssim_value)  # NEW: Append SSIM value\n",
    "\n",
    "    avg_psnr = np.mean(psnr_values) if psnr_values else 0\n",
    "    avg_nc = np.mean(nc_values) if nc_values else 0\n",
    "    avg_ssim = np.mean(ssim_values) if ssim_values else 0  # NEW: Calculate average SSIM\n",
    "\n",
    "    return avg_psnr, avg_nc, avg_ssim\n",
    "\n",
    "\n",
    "# Usage for Dataset-Wide Averages\n",
    "if __name__ == \"__main__\":\n",
    "    original_dir = \"/home/jovyan/fresh_clean_dataset/data/resized_images/test\"  # REPLACE and POINT to ORIGINAL images folder\n",
    "    #reconstructed_dir = \"/home/jovyan/fresh_clean_dataset/data/images_cleaned/test\"  # REPLACE and POINT to RECONSTRUCTED images folder\n",
    "    reconstructed_dir = \"/home/jovyan/ML2 New/precise_transparency_models_data/large_unet_0.65/images_cleaned_10r0.65/test\"\n",
    "\n",
    "    print(\"\\nCalculating average metrics across all image pairs...\")\n",
    "    avg_psnr, avg_nc, avg_ssim = calculate_average_metrics(original_dir, reconstructed_dir)\n",
    "    print(\"\\nOverall Metrics for the Dataset:\")\n",
    "    print(f\"Average PSNR: {avg_psnr:.2f} dB\")\n",
    "    print(f\"Average NC: {avg_nc:.4f}\")\n",
    "    print(f\"Average SSIM: {avg_ssim:.4f}\")"
   ]
  },
  {
   "cell_type": "code",
   "execution_count": null,
   "id": "98feff68-2572-4943-9a99-bdf4770bf50e",
   "metadata": {},
   "outputs": [],
   "source": []
  }
 ],
 "metadata": {
  "kernelspec": {
   "display_name": "Python",
   "language": "python",
   "name": "python3"
  },
  "language_info": {
   "codemirror_mode": {
    "name": "ipython",
    "version": 3
   },
   "file_extension": ".py",
   "mimetype": "text/x-python",
   "name": "python",
   "nbconvert_exporter": "python",
   "pygments_lexer": "ipython3",
   "version": "3.8.10"
  }
 },
 "nbformat": 4,
 "nbformat_minor": 5
}
