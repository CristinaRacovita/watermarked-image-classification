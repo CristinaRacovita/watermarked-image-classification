{
 "cells": [
  {
   "cell_type": "code",
   "execution_count": null,
   "id": "27736b06-24b8-424e-9753-ad827b5ee666",
   "metadata": {
    "tags": []
   },
   "outputs": [],
   "source": [
    "import numpy as np\n",
    "import cv2\n",
    "import os\n",
    "import random\n"
   ]
  },
  {
   "cell_type": "code",
   "execution_count": null,
   "id": "b705ee08-be80-4544-b9b6-22351e5c57be",
   "metadata": {
    "tags": []
   },
   "outputs": [],
   "source": [
    "def calculate_psnr_pair(original, reconstructed):\n",
    "\n",
    "# Calculate PSNR for a single pair of images.\n",
    "\n",
    "    # Ensure images are in float32 format for calculations\n",
    "    original = original.astype(np.float32)\n",
    "    reconstructed = reconstructed.astype(np.float32)\n",
    "\n",
    "    mse = np.mean((original - reconstructed) ** 2)\n",
    "    if mse == 0:  # Perfect match\n",
    "        return float('inf')\n",
    "    max_pixel = 255.0\n",
    "    psnr = 20 * np.log10(max_pixel / np.sqrt(mse))\n",
    "    return psnr\n",
    "\n",
    "def calculate_nc_pair(original, reconstructed):\n",
    "    \"\"\"\n",
    "    Calculate Normalized Correlation (NC) for a single pair of images.\n",
    "    Args:\n",
    "        original (np.ndarray): Original image (ground truth).\n",
    "        reconstructed (np.ndarray): Watermark-removed image.\n",
    "    Returns:\n",
    "        float: NC value between 0 and 1.\n",
    "    \"\"\"\n",
    "    numerator = np.sum(original * reconstructed)\n",
    "    denominator = np.sqrt(np.sum(original ** 2) * np.sum(reconstructed ** 2))\n",
    "    return numerator / denominator if denominator != 0 else 0\n",
    "\n",
    "def test_pairwise_metrics(original_path, reconstructed_path):\n",
    "\n",
    "# Test PSNR and NC calculations on a single image pair.\n",
    "\n",
    "    original = cv2.imread(original_path, cv2.IMREAD_GRAYSCALE)\n",
    "    reconstructed = cv2.imread(reconstructed_path, cv2.IMREAD_GRAYSCALE)\n",
    "    if original is None or reconstructed is None:\n",
    "        raise ValueError(\"Error loading one or both images.\")\n",
    "\n",
    "    # Calculate PSNR and NC\n",
    "    psnr = calculate_psnr_pair(original, reconstructed)\n",
    "    nc = calculate_nc_pair(original, reconstructed)\n",
    "\n",
    "    print(f\"Metrics for the selected image pair:\")\n",
    "    print(f\"Original: {original_path}\")\n",
    "    print(f\"Reconstructed: {reconstructed_path}\")\n",
    "    print(f\"PSNR: {psnr:.2f} dB\")\n",
    "    print(f\"NC: {nc:.4f}\")\n",
    "\n",
    "def get_random_image_pair(original_dir, reconstructed_dir):\n",
    "\n",
    "# Select a random image pair from the given directories.\n",
    "\n",
    "    original_files = sorted(os.listdir(original_dir))\n",
    "    reconstructed_files = sorted(os.listdir(reconstructed_dir))\n",
    "    if not original_files or not reconstructed_files:\n",
    "        raise ValueError(\"One or both directories are empty.\")\n",
    "    random_index = random.randint(0, min(len(original_files), len(reconstructed_files)) - 1)\n",
    "    original_path = os.path.join(original_dir, original_files[random_index])\n",
    "    reconstructed_path = os.path.join(reconstructed_dir, reconstructed_files[random_index])\n",
    "    return original_path, reconstructed_path"
   ]
  },
  {
   "cell_type": "code",
   "execution_count": 11,
   "id": "bab0a882-8714-4489-8e47-79af46f9d03b",
   "metadata": {
    "tags": []
   },
   "outputs": [
    {
     "name": "stdout",
     "output_type": "stream",
     "text": [
      "Metrics for the selected image pair:\n",
      "Original: data/resized_images/test/havanese_69.jpg\n",
      "Reconstructed: data/resized_images/test/havanese_69.jpg\n",
      "PSNR: inf dB\n",
      "NC: 1.0000\n"
     ]
    }
   ],
   "source": [
    "#Usage: Comparing Random Image Pairs\n",
    "if __name__ == \"__main__\":\n",
    "    original_dir = \"data/resized_images/test\"  # Replace with your original images folder\n",
    "    reconstructed_dir = \"data/resized_images/test\"  # Replace with your reconstructed images folder\n",
    "\n",
    "    original_path, reconstructed_path = get_random_image_pair(original_dir, reconstructed_dir)\n",
    "    test_pairwise_metrics(original_path, reconstructed_path)"
   ]
  },
  {
   "cell_type": "code",
   "execution_count": 12,
   "id": "bf6a032b-be58-4d22-a50d-c212eaa7581c",
   "metadata": {
    "tags": []
   },
   "outputs": [
    {
     "name": "stdout",
     "output_type": "stream",
     "text": [
      "\n",
      "Calculating average metrics across all image pairs...\n",
      "\n",
      "Overall Metrics for the Dataset:\n",
      "Average PSNR: inf dB\n",
      "Average NC: 1.0000\n"
     ]
    }
   ],
   "source": [
    "# For Dataset Wide Averages\n",
    "\n",
    "def calculate_average_metrics(original_dir, reconstructed_dir):\n",
    "\n",
    "# Calculate average PSNR and NC for all image pairs in the given directories.\n",
    "\n",
    "    def filter_images(file_list):\n",
    "        # Only keep files with valid image extensions\n",
    "        valid_extensions = (\".jpg\", \".jpeg\", \".png\", \".bmp\", \".tiff\")\n",
    "        return [f for f in file_list if f.lower().endswith(valid_extensions)]\n",
    "\n",
    "    # Filter files to include only valid images\n",
    "    original_files = sorted(filter_images(os.listdir(original_dir)))\n",
    "    reconstructed_files = sorted(filter_images(os.listdir(reconstructed_dir)))\n",
    "\n",
    "    if not original_files or not reconstructed_files:\n",
    "        raise ValueError(\"One or both directories are empty or contain no valid image files.\")\n",
    "\n",
    "    psnr_values = []\n",
    "    nc_values = []\n",
    "\n",
    "    for original_file, reconstructed_file in zip(original_files, reconstructed_files):\n",
    "        original_path = os.path.join(original_dir, original_file)\n",
    "        reconstructed_path = os.path.join(reconstructed_dir, reconstructed_file)\n",
    "\n",
    "        original = cv2.imread(original_path, cv2.IMREAD_GRAYSCALE)\n",
    "        reconstructed = cv2.imread(reconstructed_path, cv2.IMREAD_GRAYSCALE)\n",
    "        if original is None or reconstructed is None:\n",
    "            print(f\"Warning: Could not load pair ({original_path}, {reconstructed_path}). Skipping...\")\n",
    "            continue\n",
    "\n",
    "        # Use existing functions for PSNR and NC\n",
    "        psnr = calculate_psnr_pair(original, reconstructed)\n",
    "        nc = calculate_nc_pair(original, reconstructed)\n",
    "\n",
    "        psnr_values.append(psnr)\n",
    "        nc_values.append(nc)\n",
    "\n",
    "    avg_psnr = np.mean(psnr_values) if psnr_values else 0\n",
    "    avg_nc = np.mean(nc_values) if nc_values else 0\n",
    "\n",
    "    return avg_psnr, avg_nc\n",
    "\n",
    "\n",
    "# Example Usage for Dataset-Wide Averages\n",
    "if __name__ == \"__main__\":\n",
    "    original_dir = \"data/resized_images/test\"  # REPLACE and POINT to ORIGINAL images folder\n",
    "    reconstructed_dir = \"data/resized_images/test\"  # REPLACE and POINT to RECONSTRUCTED images folder\n",
    "\n",
    "    print(\"\\nCalculating average metrics across all image pairs...\")\n",
    "    avg_psnr, avg_nc = calculate_average_metrics(original_dir, reconstructed_dir)\n",
    "    print(\"\\nOverall Metrics for the Dataset:\")\n",
    "    print(f\"Average PSNR: {avg_psnr:.2f} dB\")\n",
    "    print(f\"Average NC: {avg_nc:.4f}\")"
   ]
  },
  {
   "cell_type": "code",
   "execution_count": null,
   "id": "a2e1d565-6ef4-40c5-9964-c90c0aabbe61",
   "metadata": {},
   "outputs": [],
   "source": []
  }
 ],
 "metadata": {
  "kernelspec": {
   "display_name": "Python",
   "language": "python",
   "name": "python3"
  },
  "language_info": {
   "codemirror_mode": {
    "name": "ipython",
    "version": 3
   },
   "file_extension": ".py",
   "mimetype": "text/x-python",
   "name": "python",
   "nbconvert_exporter": "python",
   "pygments_lexer": "ipython3",
   "version": "3.8.10"
  }
 },
 "nbformat": 4,
 "nbformat_minor": 5
}
