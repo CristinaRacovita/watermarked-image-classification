{
 "cells": [
  {
   "cell_type": "code",
   "execution_count": 16,
   "id": "c1f14128-acd6-4769-815b-e02eba6c831d",
   "metadata": {},
   "outputs": [],
   "source": [
    "import os\n",
    "import cv2\n",
    "import random\n",
    "import numpy as np"
   ]
  },
  {
   "cell_type": "code",
   "execution_count": 17,
   "id": "ca4771ec-8602-497c-a498-0e88ff92a4f2",
   "metadata": {},
   "outputs": [],
   "source": [
    "def calculate_psnr_pair(original, reconstructed):\n",
    "    # Calculate PSNR for a single pair of images.\n",
    "\n",
    "    # Ensure images are in float32 format for calculations\n",
    "    original = original.astype(np.float32) / 255.0\n",
    "    reconstructed = reconstructed.astype(np.float32) / 255.0\n",
    "\n",
    "    mse = np.mean((original - reconstructed) ** 2)\n",
    "    if mse == 0:  # Perfect match\n",
    "        return float('inf')\n",
    "    max_pixel = 1.0  # Adjust max_pixel for normalized range\n",
    "    psnr = 20 * np.log10(max_pixel / np.sqrt(mse))\n",
    "    return psnr\n",
    "\n",
    "def calculate_nc_pair(original, reconstructed):\n",
    "    \"\"\"\n",
    "    Calculate Normalized Correlation (NC) for a single pair of images.\n",
    "    Args:\n",
    "        original (np.ndarray): Original image (ground truth).\n",
    "        reconstructed (np.ndarray): Watermark-removed image.\n",
    "    Returns:\n",
    "        float: NC value between 0 and 1.\n",
    "    \"\"\"\n",
    "    # Normalize pixel values to [0, 1]\n",
    "    original = original.astype(np.float32) / 255.0\n",
    "    reconstructed = reconstructed.astype(np.float32) / 255.0\n",
    "\n",
    "    numerator = np.sum(original * reconstructed)\n",
    "    denominator = np.sqrt(np.sum(original ** 2) * np.sum(reconstructed ** 2))\n",
    "    return numerator / denominator if denominator != 0 else 0\n",
    "\n",
    "def test_pairwise_metrics(original_path, reconstructed_path):\n",
    "    # Computing PSNR and NC calculations on a single image pair.\n",
    "\n",
    "    original = cv2.imread(original_path, cv2.IMREAD_GRAYSCALE)\n",
    "    reconstructed = cv2.imread(reconstructed_path, cv2.IMREAD_GRAYSCALE)\n",
    "    if original is None or reconstructed is None:\n",
    "        raise ValueError(\"Error loading one or both images.\")\n",
    "\n",
    "    psnr = calculate_psnr_pair(original, reconstructed)\n",
    "    nc = calculate_nc_pair(original, reconstructed)\n",
    "\n",
    "    print(f\"Metrics for the selected image pair:\")\n",
    "    print(f\"Original: {original_path}\")\n",
    "    print(f\"Reconstructed: {reconstructed_path}\")\n",
    "    print(f\"PSNR: {psnr:.2f} dB\")\n",
    "    print(f\"NC: {nc:.4f}\")\n",
    "\n",
    "def get_random_image_pair(original_dir, reconstructed_dir):\n",
    "    # Select a random image pair from the given directories.\n",
    "\n",
    "    original_files = sorted(os.listdir(original_dir))\n",
    "    reconstructed_files = sorted(os.listdir(reconstructed_dir))\n",
    "    if not original_files or not reconstructed_files:\n",
    "        raise ValueError(\"One or both directories are empty.\")\n",
    "    random_index = random.randint(0, min(len(original_files), len(reconstructed_files)) - 1)\n",
    "    original_path = os.path.join(original_dir, original_files[random_index])\n",
    "    reconstructed_path = os.path.join(reconstructed_dir, reconstructed_files[random_index])\n",
    "    return original_path, reconstructed_path"
   ]
  },
  {
   "cell_type": "code",
   "execution_count": 18,
   "id": "9fe96649-bd48-4a07-ae36-fb737d44a5ad",
   "metadata": {},
   "outputs": [
    {
     "name": "stdout",
     "output_type": "stream",
     "text": [
      "Metrics for the selected image pair:\n",
      "Original: /home/jovyan/fresh_clean_dataset/data/resized_images/test/basset_hound_50.jpg\n",
      "Reconstructed: /home/jovyan/fresh_clean_dataset/data/images_cleaned/test/basset_hound_50.jpg\n",
      "PSNR: 15.52 dB\n",
      "NC: 0.9587\n"
     ]
    }
   ],
   "source": [
    "#Usage: Comparing Random Image Pairs\n",
    "if __name__ == \"__main__\":\n",
    "    original_dir = \"/home/jovyan/fresh_clean_dataset/data/resized_images/test\"  # REPLACE and POINT to ORIGINAL images folder\n",
    "    reconstructed_dir = \"/home/jovyan/fresh_clean_dataset/data/images_cleaned/test\"  # REPLACE and POINT to RECONSTRUCTED images folder\n",
    "\n",
    "    original_path, reconstructed_path = get_random_image_pair(original_dir, reconstructed_dir)\n",
    "    test_pairwise_metrics(original_path, reconstructed_path)"
   ]
  },
  {
   "cell_type": "code",
   "execution_count": 20,
   "id": "bc69c2f5-2052-4186-b549-0737d7b3b1a5",
   "metadata": {
    "tags": []
   },
   "outputs": [
    {
     "name": "stdout",
     "output_type": "stream",
     "text": [
      "\n",
      "Calculating average metrics across all image pairs...\n",
      "\n",
      "Overall Metrics for the Dataset:\n",
      "Average PSNR: 15.12 dB\n",
      "Average NC: 0.9343\n"
     ]
    }
   ],
   "source": [
    "# For DATASET WIDE AVERAGES\n",
    "\n",
    "def calculate_average_metrics(original_dir, reconstructed_dir):\n",
    "\n",
    "    def filter_images(file_list):\n",
    "        valid_extensions = (\".jpg\", \".jpeg\", \".png\", \".bmp\", \".tiff\")\n",
    "        return [f for f in file_list if f.lower().endswith(valid_extensions)]\n",
    "\n",
    "    # Filter files to include only valid images\n",
    "    original_files = sorted(filter_images(os.listdir(original_dir)))\n",
    "    reconstructed_files = sorted(filter_images(os.listdir(reconstructed_dir)))\n",
    "\n",
    "    if not original_files or not reconstructed_files:\n",
    "        raise ValueError(\"One or both directories are empty or contain no valid image files.\")\n",
    "\n",
    "    psnr_values = []\n",
    "    nc_values = []\n",
    "\n",
    "    for original_file, reconstructed_file in zip(original_files, reconstructed_files):\n",
    "        original_path = os.path.join(original_dir, original_file)\n",
    "        reconstructed_path = os.path.join(reconstructed_dir, reconstructed_file)\n",
    "\n",
    "        original = cv2.imread(original_path, cv2.IMREAD_GRAYSCALE)\n",
    "        reconstructed = cv2.imread(reconstructed_path, cv2.IMREAD_GRAYSCALE)\n",
    "        if original is None or reconstructed is None:\n",
    "            print(f\"Warning: Could not load pair ({original_path}, {reconstructed_path}). Skipping...\")\n",
    "            continue\n",
    "\n",
    "        # Reusing functions\n",
    "        psnr = calculate_psnr_pair(original, reconstructed)\n",
    "        nc = calculate_nc_pair(original, reconstructed)\n",
    "\n",
    "        psnr_values.append(psnr)\n",
    "        nc_values.append(nc)\n",
    "\n",
    "    avg_psnr = np.mean(psnr_values) if psnr_values else 0\n",
    "    avg_nc = np.mean(nc_values) if nc_values else 0\n",
    "\n",
    "    return avg_psnr, avg_nc\n",
    "\n",
    "\n",
    "#Usage for Dataset-Wide Averages\n",
    "if __name__ == \"__main__\":\n",
    "    original_dir = \"/home/jovyan/fresh_clean_dataset/data/resized_images/test\"  # REPLACE and POINT to ORIGINAL images folder\n",
    "    reconstructed_dir = \"/home/jovyan/fresh_clean_dataset/data/images_cleaned/test\"  # REPLACE and POINT to RECONSTRUCTED images folder\n",
    "\n",
    "    print(\"\\nCalculating average metrics across all image pairs...\")\n",
    "    avg_psnr, avg_nc = calculate_average_metrics(original_dir, reconstructed_dir)\n",
    "    print(\"\\nOverall Metrics for the Dataset:\")\n",
    "    print(f\"Average PSNR: {avg_psnr:.2f} dB\")\n",
    "    print(f\"Average NC: {avg_nc:.4f}\")"
   ]
  }
 ],
 "metadata": {
  "kernelspec": {
   "display_name": "Python",
   "language": "python",
   "name": "python3"
  },
  "language_info": {
   "codemirror_mode": {
    "name": "ipython",
    "version": 3
   },
   "file_extension": ".py",
   "mimetype": "text/x-python",
   "name": "python",
   "nbconvert_exporter": "python",
   "pygments_lexer": "ipython3",
   "version": "3.8.10"
  }
 },
 "nbformat": 4,
 "nbformat_minor": 5
}
