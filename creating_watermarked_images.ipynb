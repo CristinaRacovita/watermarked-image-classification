{
 "cells": [
  {
   "cell_type": "markdown",
   "id": "529587c0-7e6c-4e97-8921-a6ed1297e8c1",
   "metadata": {
    "tags": [],
    "user_expressions": []
   },
   "source": [
    "# Creating Watermarked Images"
   ]
  },
  {
   "cell_type": "code",
   "execution_count": 48,
   "id": "13c34c73-3c11-49ed-a3cd-5a2b51253025",
   "metadata": {
    "tags": []
   },
   "outputs": [],
   "source": [
    "import os\n",
    "import math\n",
    "import random\n",
    "\n",
    "import kagglehub\n",
    "import numpy as np\n",
    "import pandas as pd\n",
    "from PIL import Image\n",
    "\n",
    "# make the operations deterministic\n",
    "SEED = 42\n",
    "random.seed(SEED)\n",
    "np.random.seed(SEED)"
   ]
  },
  {
   "cell_type": "code",
   "execution_count": 2,
   "id": "975e5ee3-1c1a-43d2-9d77-be68acde3c69",
   "metadata": {
    "tags": []
   },
   "outputs": [],
   "source": [
    "def read_images_dataset(images_path):\n",
    "    image_files = [\n",
    "        f for f in os.listdir(images_path) if f.lower().endswith((\".jpg\", \".jpeg\", \".png\"))\n",
    "    ]\n",
    "    image_data = []\n",
    "\n",
    "    for image_file in image_files:\n",
    "        image_path = os.path.join(images_path, image_file)\n",
    "\n",
    "        img = Image.open(image_path)\n",
    "\n",
    "        image_data.append(\n",
    "            {\"image_name\": image_file, \"image_path\": image_path, \"image_size\": img.size}\n",
    "        )\n",
    "\n",
    "    return pd.DataFrame(image_data)"
   ]
  },
  {
   "cell_type": "markdown",
   "id": "14b8bd90-0cca-4be5-be7a-9911842e5b3c",
   "metadata": {
    "tags": [],
    "user_expressions": []
   },
   "source": [
    "## [The Oxford-IIIT Pet Dataset](https://www.kaggle.com/datasets/tanlikesmath/the-oxfordiiit-pet-dataset)\n",
    "\n",
    "We need to resize the images if the Oxford-IIIT Pet dataset does not match the ones required for the image classifier. We plan to use either Tiny-Vit 5M or MobileViT-XXS 1.3M for image classification. Both of these models use images of 224x224 pixels."
   ]
  },
  {
   "cell_type": "code",
   "execution_count": 3,
   "id": "f68eaf6f-b872-4c3c-b64c-5a736786c662",
   "metadata": {
    "tags": []
   },
   "outputs": [],
   "source": [
    "def load_oxford_pet_dataset():\n",
    "    return kagglehub.dataset_download(\"tanlikesmath/the-oxfordiiit-pet-dataset\")"
   ]
  },
  {
   "cell_type": "code",
   "execution_count": 4,
   "id": "93275666-dc72-412e-9f98-bd33b481fcf5",
   "metadata": {
    "tags": []
   },
   "outputs": [
    {
     "data": {
      "text/html": [
       "<div>\n",
       "<style scoped>\n",
       "    .dataframe tbody tr th:only-of-type {\n",
       "        vertical-align: middle;\n",
       "    }\n",
       "\n",
       "    .dataframe tbody tr th {\n",
       "        vertical-align: top;\n",
       "    }\n",
       "\n",
       "    .dataframe thead th {\n",
       "        text-align: right;\n",
       "    }\n",
       "</style>\n",
       "<table border=\"1\" class=\"dataframe\">\n",
       "  <thead>\n",
       "    <tr style=\"text-align: right;\">\n",
       "      <th></th>\n",
       "      <th>image_name</th>\n",
       "      <th>image_path</th>\n",
       "      <th>image_size</th>\n",
       "    </tr>\n",
       "  </thead>\n",
       "  <tbody>\n",
       "    <tr>\n",
       "      <th>0</th>\n",
       "      <td>Abyssinian_1.jpg</td>\n",
       "      <td>C:\\Users\\Bogdan\\.cache\\kagglehub\\datasets\\tanl...</td>\n",
       "      <td>(600, 400)</td>\n",
       "    </tr>\n",
       "    <tr>\n",
       "      <th>1</th>\n",
       "      <td>Abyssinian_10.jpg</td>\n",
       "      <td>C:\\Users\\Bogdan\\.cache\\kagglehub\\datasets\\tanl...</td>\n",
       "      <td>(375, 500)</td>\n",
       "    </tr>\n",
       "    <tr>\n",
       "      <th>2</th>\n",
       "      <td>Abyssinian_100.jpg</td>\n",
       "      <td>C:\\Users\\Bogdan\\.cache\\kagglehub\\datasets\\tanl...</td>\n",
       "      <td>(394, 500)</td>\n",
       "    </tr>\n",
       "    <tr>\n",
       "      <th>3</th>\n",
       "      <td>Abyssinian_101.jpg</td>\n",
       "      <td>C:\\Users\\Bogdan\\.cache\\kagglehub\\datasets\\tanl...</td>\n",
       "      <td>(450, 313)</td>\n",
       "    </tr>\n",
       "    <tr>\n",
       "      <th>4</th>\n",
       "      <td>Abyssinian_102.jpg</td>\n",
       "      <td>C:\\Users\\Bogdan\\.cache\\kagglehub\\datasets\\tanl...</td>\n",
       "      <td>(500, 465)</td>\n",
       "    </tr>\n",
       "  </tbody>\n",
       "</table>\n",
       "</div>"
      ],
      "text/plain": [
       "           image_name                                         image_path  \\\n",
       "0    Abyssinian_1.jpg  C:\\Users\\Bogdan\\.cache\\kagglehub\\datasets\\tanl...   \n",
       "1   Abyssinian_10.jpg  C:\\Users\\Bogdan\\.cache\\kagglehub\\datasets\\tanl...   \n",
       "2  Abyssinian_100.jpg  C:\\Users\\Bogdan\\.cache\\kagglehub\\datasets\\tanl...   \n",
       "3  Abyssinian_101.jpg  C:\\Users\\Bogdan\\.cache\\kagglehub\\datasets\\tanl...   \n",
       "4  Abyssinian_102.jpg  C:\\Users\\Bogdan\\.cache\\kagglehub\\datasets\\tanl...   \n",
       "\n",
       "   image_size  \n",
       "0  (600, 400)  \n",
       "1  (375, 500)  \n",
       "2  (394, 500)  \n",
       "3  (450, 313)  \n",
       "4  (500, 465)  "
      ]
     },
     "execution_count": 4,
     "metadata": {},
     "output_type": "execute_result"
    }
   ],
   "source": [
    "def read_oxford_pet_dataset():\n",
    "    path = load_oxford_pet_dataset()\n",
    "    images_path = f\"{path}/images\"\n",
    "    return read_images_dataset(images_path)\n",
    "\n",
    "\n",
    "oxford_pet_dataset = read_oxford_pet_dataset()\n",
    "oxford_pet_dataset.head(5)"
   ]
  },
  {
   "cell_type": "code",
   "execution_count": 5,
   "id": "a4ab1ce1-c484-4d45-8189-b294ebe6060f",
   "metadata": {
    "tags": []
   },
   "outputs": [],
   "source": [
    "def resize_image(image_path, dim):\n",
    "    image = Image.open(image_path)\n",
    "    if image.mode != \"RGB\":\n",
    "        image = image.convert(\"RGB\")\n",
    "    new_size = (dim, dim)\n",
    "    resized_image = image.resize(new_size)\n",
    "    return resized_image"
   ]
  },
  {
   "cell_type": "code",
   "execution_count": 6,
   "id": "6afa5b08-5d00-4997-928e-88915eeee5e7",
   "metadata": {
    "tags": []
   },
   "outputs": [
    {
     "data": {
      "image/jpeg": "[encoded data removed]",
      "image/png": "[encoded data removed]",
      "text/plain": [
       "<PIL.Image.Image image mode=RGB size=224x224>"
      ]
     },
     "execution_count": 6,
     "metadata": {},
     "output_type": "execute_result"
    }
   ],
   "source": [
    "resize_image(oxford_pet_dataset[\"image_path\"][0], 224)"
   ]
  },
  {
   "cell_type": "code",
   "execution_count": 7,
   "id": "2376384f-5f70-4fa2-9a38-a6ea2f6c873f",
   "metadata": {
    "tags": []
   },
   "outputs": [],
   "source": [
    "def save_resize_oxford_pet_dataset(original_dataset):\n",
    "    output_dir = \"./data/resized_images\"\n",
    "\n",
    "    if not os.path.exists(output_dir):\n",
    "        os.makedirs(output_dir)\n",
    "\n",
    "    for index, row in original_dataset.iterrows():\n",
    "        input_image_path = row[\"image_path\"]\n",
    "        resized_image = resize_image(input_image_path, 224)\n",
    "\n",
    "        output_image_path = os.path.join(output_dir, row[\"image_name\"])\n",
    "        resized_image.save(output_image_path)\n",
    "\n",
    "    return output_dir\n",
    "\n",
    "\n",
    "resized_dataset_dir_path = save_resize_oxford_pet_dataset(oxford_pet_dataset)\n",
    "resized_oxford_pet_dataset = read_images_dataset(resized_dataset_dir_path)\n",
    "resized_oxford_pet_dataset.head(5)"
   ]
  },
  {
   "cell_type": "markdown",
   "id": "2e32e2b6",
   "metadata": {},
   "source": [
    "### Split the dataset into trainval-test folds"
   ]
  },
  {
   "cell_type": "markdown",
   "id": "0ca91ce3",
   "metadata": {},
   "source": [
    "This split is taken from [here](https://www.kaggle.com/datasets/julinmaloof/the-oxfordiiit-pet-dataset) and is the one recommended by the authors. Additionally, add the class information to each image."
   ]
  },
  {
   "cell_type": "code",
   "execution_count": 11,
   "id": "d9133c9c",
   "metadata": {},
   "outputs": [
    {
     "data": {
      "text/html": [
       "<div>\n",
       "<style scoped>\n",
       "    .dataframe tbody tr th:only-of-type {\n",
       "        vertical-align: middle;\n",
       "    }\n",
       "\n",
       "    .dataframe tbody tr th {\n",
       "        vertical-align: top;\n",
       "    }\n",
       "\n",
       "    .dataframe thead th {\n",
       "        text-align: right;\n",
       "    }\n",
       "</style>\n",
       "<table border=\"1\" class=\"dataframe\">\n",
       "  <thead>\n",
       "    <tr style=\"text-align: right;\">\n",
       "      <th></th>\n",
       "      <th>image_path</th>\n",
       "      <th>image_size</th>\n",
       "    </tr>\n",
       "    <tr>\n",
       "      <th>image_name</th>\n",
       "      <th></th>\n",
       "      <th></th>\n",
       "    </tr>\n",
       "  </thead>\n",
       "  <tbody>\n",
       "    <tr>\n",
       "      <th>Abyssinian_1</th>\n",
       "      <td>./data/resized_images\\Abyssinian_1.jpg</td>\n",
       "      <td>(224, 224)</td>\n",
       "    </tr>\n",
       "    <tr>\n",
       "      <th>Abyssinian_10</th>\n",
       "      <td>./data/resized_images\\Abyssinian_10.jpg</td>\n",
       "      <td>(224, 224)</td>\n",
       "    </tr>\n",
       "    <tr>\n",
       "      <th>Abyssinian_100</th>\n",
       "      <td>./data/resized_images\\Abyssinian_100.jpg</td>\n",
       "      <td>(224, 224)</td>\n",
       "    </tr>\n",
       "    <tr>\n",
       "      <th>Abyssinian_101</th>\n",
       "      <td>./data/resized_images\\Abyssinian_101.jpg</td>\n",
       "      <td>(224, 224)</td>\n",
       "    </tr>\n",
       "    <tr>\n",
       "      <th>Abyssinian_102</th>\n",
       "      <td>./data/resized_images\\Abyssinian_102.jpg</td>\n",
       "      <td>(224, 224)</td>\n",
       "    </tr>\n",
       "    <tr>\n",
       "      <th>...</th>\n",
       "      <td>...</td>\n",
       "      <td>...</td>\n",
       "    </tr>\n",
       "    <tr>\n",
       "      <th>yorkshire_terrier_95</th>\n",
       "      <td>./data/resized_images\\yorkshire_terrier_95.jpg</td>\n",
       "      <td>(224, 224)</td>\n",
       "    </tr>\n",
       "    <tr>\n",
       "      <th>yorkshire_terrier_96</th>\n",
       "      <td>./data/resized_images\\yorkshire_terrier_96.jpg</td>\n",
       "      <td>(224, 224)</td>\n",
       "    </tr>\n",
       "    <tr>\n",
       "      <th>yorkshire_terrier_97</th>\n",
       "      <td>./data/resized_images\\yorkshire_terrier_97.jpg</td>\n",
       "      <td>(224, 224)</td>\n",
       "    </tr>\n",
       "    <tr>\n",
       "      <th>yorkshire_terrier_98</th>\n",
       "      <td>./data/resized_images\\yorkshire_terrier_98.jpg</td>\n",
       "      <td>(224, 224)</td>\n",
       "    </tr>\n",
       "    <tr>\n",
       "      <th>yorkshire_terrier_99</th>\n",
       "      <td>./data/resized_images\\yorkshire_terrier_99.jpg</td>\n",
       "      <td>(224, 224)</td>\n",
       "    </tr>\n",
       "  </tbody>\n",
       "</table>\n",
       "<p>7390 rows × 2 columns</p>\n",
       "</div>"
      ],
      "text/plain": [
       "                                                          image_path  \\\n",
       "image_name                                                             \n",
       "Abyssinian_1                  ./data/resized_images\\Abyssinian_1.jpg   \n",
       "Abyssinian_10                ./data/resized_images\\Abyssinian_10.jpg   \n",
       "Abyssinian_100              ./data/resized_images\\Abyssinian_100.jpg   \n",
       "Abyssinian_101              ./data/resized_images\\Abyssinian_101.jpg   \n",
       "Abyssinian_102              ./data/resized_images\\Abyssinian_102.jpg   \n",
       "...                                                              ...   \n",
       "yorkshire_terrier_95  ./data/resized_images\\yorkshire_terrier_95.jpg   \n",
       "yorkshire_terrier_96  ./data/resized_images\\yorkshire_terrier_96.jpg   \n",
       "yorkshire_terrier_97  ./data/resized_images\\yorkshire_terrier_97.jpg   \n",
       "yorkshire_terrier_98  ./data/resized_images\\yorkshire_terrier_98.jpg   \n",
       "yorkshire_terrier_99  ./data/resized_images\\yorkshire_terrier_99.jpg   \n",
       "\n",
       "                      image_size  \n",
       "image_name                        \n",
       "Abyssinian_1          (224, 224)  \n",
       "Abyssinian_10         (224, 224)  \n",
       "Abyssinian_100        (224, 224)  \n",
       "Abyssinian_101        (224, 224)  \n",
       "Abyssinian_102        (224, 224)  \n",
       "...                          ...  \n",
       "yorkshire_terrier_95  (224, 224)  \n",
       "yorkshire_terrier_96  (224, 224)  \n",
       "yorkshire_terrier_97  (224, 224)  \n",
       "yorkshire_terrier_98  (224, 224)  \n",
       "yorkshire_terrier_99  (224, 224)  \n",
       "\n",
       "[7390 rows x 2 columns]"
      ]
     },
     "execution_count": 11,
     "metadata": {},
     "output_type": "execute_result"
    }
   ],
   "source": [
    "resized_oxford_pet_dataset[\"image_name\"] = resized_oxford_pet_dataset[\"image_name\"].map(\n",
    "    lambda x: x.replace(\".jpg\", \"\")\n",
    ")\n",
    "resized_oxford_pet_dataset = resized_oxford_pet_dataset.set_index(\"image_name\")\n",
    "resized_oxford_pet_dataset"
   ]
  },
  {
   "cell_type": "code",
   "execution_count": 21,
   "id": "9e14ff60",
   "metadata": {},
   "outputs": [
    {
     "data": {
      "text/html": [
       "<div>\n",
       "<style scoped>\n",
       "    .dataframe tbody tr th:only-of-type {\n",
       "        vertical-align: middle;\n",
       "    }\n",
       "\n",
       "    .dataframe tbody tr th {\n",
       "        vertical-align: top;\n",
       "    }\n",
       "\n",
       "    .dataframe thead th {\n",
       "        text-align: right;\n",
       "    }\n",
       "</style>\n",
       "<table border=\"1\" class=\"dataframe\">\n",
       "  <thead>\n",
       "    <tr style=\"text-align: right;\">\n",
       "      <th></th>\n",
       "      <th>class</th>\n",
       "      <th>fold</th>\n",
       "    </tr>\n",
       "    <tr>\n",
       "      <th>image_name</th>\n",
       "      <th></th>\n",
       "      <th></th>\n",
       "    </tr>\n",
       "  </thead>\n",
       "  <tbody>\n",
       "    <tr>\n",
       "      <th>Abyssinian_201</th>\n",
       "      <td>1</td>\n",
       "      <td>test</td>\n",
       "    </tr>\n",
       "    <tr>\n",
       "      <th>Abyssinian_202</th>\n",
       "      <td>1</td>\n",
       "      <td>test</td>\n",
       "    </tr>\n",
       "    <tr>\n",
       "      <th>Abyssinian_204</th>\n",
       "      <td>1</td>\n",
       "      <td>test</td>\n",
       "    </tr>\n",
       "    <tr>\n",
       "      <th>Abyssinian_205</th>\n",
       "      <td>1</td>\n",
       "      <td>test</td>\n",
       "    </tr>\n",
       "    <tr>\n",
       "      <th>Abyssinian_206</th>\n",
       "      <td>1</td>\n",
       "      <td>test</td>\n",
       "    </tr>\n",
       "    <tr>\n",
       "      <th>...</th>\n",
       "      <td>...</td>\n",
       "      <td>...</td>\n",
       "    </tr>\n",
       "    <tr>\n",
       "      <th>yorkshire_terrier_187</th>\n",
       "      <td>37</td>\n",
       "      <td>trainval</td>\n",
       "    </tr>\n",
       "    <tr>\n",
       "      <th>yorkshire_terrier_188</th>\n",
       "      <td>37</td>\n",
       "      <td>trainval</td>\n",
       "    </tr>\n",
       "    <tr>\n",
       "      <th>yorkshire_terrier_189</th>\n",
       "      <td>37</td>\n",
       "      <td>trainval</td>\n",
       "    </tr>\n",
       "    <tr>\n",
       "      <th>yorkshire_terrier_18</th>\n",
       "      <td>37</td>\n",
       "      <td>trainval</td>\n",
       "    </tr>\n",
       "    <tr>\n",
       "      <th>yorkshire_terrier_190</th>\n",
       "      <td>37</td>\n",
       "      <td>trainval</td>\n",
       "    </tr>\n",
       "  </tbody>\n",
       "</table>\n",
       "<p>7349 rows × 2 columns</p>\n",
       "</div>"
      ],
      "text/plain": [
       "                       class      fold\n",
       "image_name                            \n",
       "Abyssinian_201             1      test\n",
       "Abyssinian_202             1      test\n",
       "Abyssinian_204             1      test\n",
       "Abyssinian_205             1      test\n",
       "Abyssinian_206             1      test\n",
       "...                      ...       ...\n",
       "yorkshire_terrier_187     37  trainval\n",
       "yorkshire_terrier_188     37  trainval\n",
       "yorkshire_terrier_189     37  trainval\n",
       "yorkshire_terrier_18      37  trainval\n",
       "yorkshire_terrier_190     37  trainval\n",
       "\n",
       "[7349 rows x 2 columns]"
      ]
     },
     "execution_count": 21,
     "metadata": {},
     "output_type": "execute_result"
    }
   ],
   "source": [
    "test_images = pd.read_csv(\"./data/test.txt\", delimiter=\" \", header=None)[[0, 1]]\n",
    "test_images[\"fold\"] = \"test\"\n",
    "\n",
    "trainval_images = pd.read_csv(\"./data/trainval.txt\", delimiter=\" \", header=None)[[0, 1]]\n",
    "trainval_images[\"fold\"] = \"trainval\"\n",
    "\n",
    "dataset_folds = (\n",
    "    pd.concat([test_images, trainval_images])\n",
    "    .rename({0: \"image_name\", 1: \"class\"}, axis=1)\n",
    "    .set_index(\"image_name\")\n",
    ")\n",
    "dataset_folds"
   ]
  },
  {
   "cell_type": "code",
   "execution_count": 22,
   "id": "5b429a58",
   "metadata": {},
   "outputs": [
    {
     "data": {
      "text/html": [
       "<div>\n",
       "<style scoped>\n",
       "    .dataframe tbody tr th:only-of-type {\n",
       "        vertical-align: middle;\n",
       "    }\n",
       "\n",
       "    .dataframe tbody tr th {\n",
       "        vertical-align: top;\n",
       "    }\n",
       "\n",
       "    .dataframe thead th {\n",
       "        text-align: right;\n",
       "    }\n",
       "</style>\n",
       "<table border=\"1\" class=\"dataframe\">\n",
       "  <thead>\n",
       "    <tr style=\"text-align: right;\">\n",
       "      <th></th>\n",
       "      <th>image_path</th>\n",
       "      <th>image_size</th>\n",
       "      <th>class</th>\n",
       "      <th>fold</th>\n",
       "    </tr>\n",
       "    <tr>\n",
       "      <th>image_name</th>\n",
       "      <th></th>\n",
       "      <th></th>\n",
       "      <th></th>\n",
       "      <th></th>\n",
       "    </tr>\n",
       "  </thead>\n",
       "  <tbody>\n",
       "    <tr>\n",
       "      <th>Abyssinian_1</th>\n",
       "      <td>./data/resized_images\\Abyssinian_1.jpg</td>\n",
       "      <td>(224, 224)</td>\n",
       "      <td>1.0</td>\n",
       "      <td>trainval</td>\n",
       "    </tr>\n",
       "    <tr>\n",
       "      <th>Abyssinian_10</th>\n",
       "      <td>./data/resized_images\\Abyssinian_10.jpg</td>\n",
       "      <td>(224, 224)</td>\n",
       "      <td>1.0</td>\n",
       "      <td>trainval</td>\n",
       "    </tr>\n",
       "    <tr>\n",
       "      <th>Abyssinian_100</th>\n",
       "      <td>./data/resized_images\\Abyssinian_100.jpg</td>\n",
       "      <td>(224, 224)</td>\n",
       "      <td>1.0</td>\n",
       "      <td>trainval</td>\n",
       "    </tr>\n",
       "    <tr>\n",
       "      <th>Abyssinian_101</th>\n",
       "      <td>./data/resized_images\\Abyssinian_101.jpg</td>\n",
       "      <td>(224, 224)</td>\n",
       "      <td>1.0</td>\n",
       "      <td>trainval</td>\n",
       "    </tr>\n",
       "    <tr>\n",
       "      <th>Abyssinian_102</th>\n",
       "      <td>./data/resized_images\\Abyssinian_102.jpg</td>\n",
       "      <td>(224, 224)</td>\n",
       "      <td>1.0</td>\n",
       "      <td>trainval</td>\n",
       "    </tr>\n",
       "    <tr>\n",
       "      <th>...</th>\n",
       "      <td>...</td>\n",
       "      <td>...</td>\n",
       "      <td>...</td>\n",
       "      <td>...</td>\n",
       "    </tr>\n",
       "    <tr>\n",
       "      <th>yorkshire_terrier_95</th>\n",
       "      <td>./data/resized_images\\yorkshire_terrier_95.jpg</td>\n",
       "      <td>(224, 224)</td>\n",
       "      <td>37.0</td>\n",
       "      <td>test</td>\n",
       "    </tr>\n",
       "    <tr>\n",
       "      <th>yorkshire_terrier_96</th>\n",
       "      <td>./data/resized_images\\yorkshire_terrier_96.jpg</td>\n",
       "      <td>(224, 224)</td>\n",
       "      <td>37.0</td>\n",
       "      <td>test</td>\n",
       "    </tr>\n",
       "    <tr>\n",
       "      <th>yorkshire_terrier_97</th>\n",
       "      <td>./data/resized_images\\yorkshire_terrier_97.jpg</td>\n",
       "      <td>(224, 224)</td>\n",
       "      <td>37.0</td>\n",
       "      <td>test</td>\n",
       "    </tr>\n",
       "    <tr>\n",
       "      <th>yorkshire_terrier_98</th>\n",
       "      <td>./data/resized_images\\yorkshire_terrier_98.jpg</td>\n",
       "      <td>(224, 224)</td>\n",
       "      <td>37.0</td>\n",
       "      <td>test</td>\n",
       "    </tr>\n",
       "    <tr>\n",
       "      <th>yorkshire_terrier_99</th>\n",
       "      <td>./data/resized_images\\yorkshire_terrier_99.jpg</td>\n",
       "      <td>(224, 224)</td>\n",
       "      <td>37.0</td>\n",
       "      <td>test</td>\n",
       "    </tr>\n",
       "  </tbody>\n",
       "</table>\n",
       "<p>7349 rows × 4 columns</p>\n",
       "</div>"
      ],
      "text/plain": [
       "                                                          image_path  \\\n",
       "image_name                                                             \n",
       "Abyssinian_1                  ./data/resized_images\\Abyssinian_1.jpg   \n",
       "Abyssinian_10                ./data/resized_images\\Abyssinian_10.jpg   \n",
       "Abyssinian_100              ./data/resized_images\\Abyssinian_100.jpg   \n",
       "Abyssinian_101              ./data/resized_images\\Abyssinian_101.jpg   \n",
       "Abyssinian_102              ./data/resized_images\\Abyssinian_102.jpg   \n",
       "...                                                              ...   \n",
       "yorkshire_terrier_95  ./data/resized_images\\yorkshire_terrier_95.jpg   \n",
       "yorkshire_terrier_96  ./data/resized_images\\yorkshire_terrier_96.jpg   \n",
       "yorkshire_terrier_97  ./data/resized_images\\yorkshire_terrier_97.jpg   \n",
       "yorkshire_terrier_98  ./data/resized_images\\yorkshire_terrier_98.jpg   \n",
       "yorkshire_terrier_99  ./data/resized_images\\yorkshire_terrier_99.jpg   \n",
       "\n",
       "                      image_size  class      fold  \n",
       "image_name                                         \n",
       "Abyssinian_1          (224, 224)    1.0  trainval  \n",
       "Abyssinian_10         (224, 224)    1.0  trainval  \n",
       "Abyssinian_100        (224, 224)    1.0  trainval  \n",
       "Abyssinian_101        (224, 224)    1.0  trainval  \n",
       "Abyssinian_102        (224, 224)    1.0  trainval  \n",
       "...                          ...    ...       ...  \n",
       "yorkshire_terrier_95  (224, 224)   37.0      test  \n",
       "yorkshire_terrier_96  (224, 224)   37.0      test  \n",
       "yorkshire_terrier_97  (224, 224)   37.0      test  \n",
       "yorkshire_terrier_98  (224, 224)   37.0      test  \n",
       "yorkshire_terrier_99  (224, 224)   37.0      test  \n",
       "\n",
       "[7349 rows x 4 columns]"
      ]
     },
     "execution_count": 22,
     "metadata": {},
     "output_type": "execute_result"
    }
   ],
   "source": [
    "pet_dataset_info = resized_oxford_pet_dataset.join(dataset_folds, on=\"image_name\")\n",
    "pet_dataset_info = pet_dataset_info.dropna()\n",
    "pet_dataset_info.to_csv(\"./data/pet_dataset_info.csv\", index=\"image_name\")\n",
    "pet_dataset_info"
   ]
  },
  {
   "cell_type": "markdown",
   "id": "3012692f-68fa-47ea-87f0-a615b254f146",
   "metadata": {
    "tags": [],
    "user_expressions": []
   },
   "source": [
    "## [QMUL-OpenLogo Dataset](https://hangsu0730.github.io/qmul-openlogo/)\n",
    "We need to edit the images in this dataset by converting them to grayscale and applying a specified opacity."
   ]
  },
  {
   "cell_type": "code",
   "execution_count": null,
   "id": "2b42ee28-4a21-465c-96f7-32e6c44e9a33",
   "metadata": {},
   "outputs": [
    {
     "data": {
      "text/html": [
       "<div>\n",
       "<style scoped>\n",
       "    .dataframe tbody tr th:only-of-type {\n",
       "        vertical-align: middle;\n",
       "    }\n",
       "\n",
       "    .dataframe tbody tr th {\n",
       "        vertical-align: top;\n",
       "    }\n",
       "\n",
       "    .dataframe thead th {\n",
       "        text-align: right;\n",
       "    }\n",
       "</style>\n",
       "<table border=\"1\" class=\"dataframe\">\n",
       "  <thead>\n",
       "    <tr style=\"text-align: right;\">\n",
       "      <th></th>\n",
       "      <th>image_name</th>\n",
       "      <th>image_path</th>\n",
       "      <th>image_size</th>\n",
       "    </tr>\n",
       "  </thead>\n",
       "  <tbody>\n",
       "    <tr>\n",
       "      <th>0</th>\n",
       "      <td>nivea.jpg</td>\n",
       "      <td>./data/qmul_openlogo_dataset\\nivea.jpg</td>\n",
       "      <td>(300, 300)</td>\n",
       "    </tr>\n",
       "    <tr>\n",
       "      <th>1</th>\n",
       "      <td>erdinger.jpg</td>\n",
       "      <td>./data/qmul_openlogo_dataset\\erdinger.jpg</td>\n",
       "      <td>(184, 173)</td>\n",
       "    </tr>\n",
       "    <tr>\n",
       "      <th>2</th>\n",
       "      <td>bershka.jpg</td>\n",
       "      <td>./data/qmul_openlogo_dataset\\bershka.jpg</td>\n",
       "      <td>(228, 62)</td>\n",
       "    </tr>\n",
       "    <tr>\n",
       "      <th>3</th>\n",
       "      <td>hsbc.jpg</td>\n",
       "      <td>./data/qmul_openlogo_dataset\\hsbc.jpg</td>\n",
       "      <td>(215, 111)</td>\n",
       "    </tr>\n",
       "    <tr>\n",
       "      <th>4</th>\n",
       "      <td>disney.jpg</td>\n",
       "      <td>./data/qmul_openlogo_dataset\\disney.jpg</td>\n",
       "      <td>(316, 159)</td>\n",
       "    </tr>\n",
       "  </tbody>\n",
       "</table>\n",
       "</div>"
      ],
      "text/plain": [
       "     image_name                                 image_path  image_size\n",
       "0     nivea.jpg     ./data/qmul_openlogo_dataset\\nivea.jpg  (300, 300)\n",
       "1  erdinger.jpg  ./data/qmul_openlogo_dataset\\erdinger.jpg  (184, 173)\n",
       "2   bershka.jpg   ./data/qmul_openlogo_dataset\\bershka.jpg   (228, 62)\n",
       "3      hsbc.jpg      ./data/qmul_openlogo_dataset\\hsbc.jpg  (215, 111)\n",
       "4    disney.jpg    ./data/qmul_openlogo_dataset\\disney.jpg  (316, 159)"
      ]
     },
     "execution_count": 23,
     "metadata": {},
     "output_type": "execute_result"
    }
   ],
   "source": [
    "qmul_openlogo_dataset = read_images_dataset(\"./data/qmul_openlogo_dataset\")\n",
    "# shuffle the rows so that we can take a random subset\n",
    "\n",
    "qmul_openlogo_dataset = qmul_openlogo_dataset.sample(frac=1, random_state=SEED).reset_index(\n",
    "    drop=True\n",
    ")\n",
    "\n",
    "qmul_openlogo_dataset.head(5)"
   ]
  },
  {
   "cell_type": "code",
   "execution_count": 24,
   "id": "627ac971-5102-4bdf-8da2-8cab2909b7f2",
   "metadata": {
    "tags": []
   },
   "outputs": [
    {
     "data": {
      "image/jpeg": "[encoded data removed]",
      "image/png": "[encoded data removed]",
      "text/plain": [
       "<PIL.Image.Image image mode=L size=300x300>"
      ]
     },
     "execution_count": 24,
     "metadata": {},
     "output_type": "execute_result"
    }
   ],
   "source": [
    "def convert_to_grayscale(image_path):\n",
    "    image = Image.open(image_path)\n",
    "    return image.convert(\"L\")\n",
    "\n",
    "\n",
    "convert_to_grayscale(qmul_openlogo_dataset[\"image_path\"][0])"
   ]
  },
  {
   "cell_type": "code",
   "execution_count": 29,
   "id": "0e76af02-6515-4b50-be31-0f69f769eee7",
   "metadata": {
    "tags": []
   },
   "outputs": [
    {
     "data": {
      "image/png": "[encoded data removed]",
      "text/plain": [
       "<PIL.Image.Image image mode=RGBA size=300x300>"
      ]
     },
     "execution_count": 29,
     "metadata": {},
     "output_type": "execute_result"
    }
   ],
   "source": [
    "# Adjust the opacity value (0 to 1)\n",
    "def change_opacity(image_path, opacity_value):\n",
    "    opacity = int(opacity_value * 255)\n",
    "    image = convert_to_grayscale(image_path)\n",
    "    image = image.convert(\"RGBA\")\n",
    "\n",
    "    data = image.getdata()\n",
    "\n",
    "    new_data = []\n",
    "    for item in data:\n",
    "        new_item = item[:3] + (opacity,)\n",
    "        new_data.append(new_item)\n",
    "\n",
    "    image.putdata(new_data)\n",
    "\n",
    "    return image\n",
    "\n",
    "\n",
    "change_opacity(qmul_openlogo_dataset[\"image_path\"][0], 0.2)"
   ]
  },
  {
   "cell_type": "markdown",
   "id": "cce13993-25fc-41b7-aa27-a76ef1339d14",
   "metadata": {
    "tags": [],
    "user_expressions": []
   },
   "source": [
    "## Creating the Final Dataset\n",
    "Each logo will be applied on the host image at a random position with a random size, rotation and opacity. Considering the related work, each logo should be placed on multiple images and the logos included in the trainval and test sets should be disjoint. Because the dataset will be classified, we impose the constraint that each logo should be hosted by at least n images from each class. This will help in making sure the logos are distributed evenly across classes.\n",
    "\n",
    "The settings used for placing watermarks:\n",
    "- transparency: 35%-60% or 30%-70% or 60-85% or 35%-85%\n",
    "- size: 60-85%\n",
    "- rotation: 0%-45% in each direction\n"
   ]
  },
  {
   "cell_type": "code",
   "execution_count": 50,
   "id": "e5301472",
   "metadata": {},
   "outputs": [],
   "source": [
    "def get_logos(pet_dataset_info, qmul_openlogo_dataset, class_images_per_logo):\n",
    "    classes_no = 37\n",
    "\n",
    "    traival_logos_no = math.floor(\n",
    "        pet_dataset_info[pet_dataset_info[\"fold\"] == \"trainval\"].shape[0]\n",
    "        / classes_no\n",
    "        / class_images_per_logo\n",
    "    )\n",
    "\n",
    "    test_logos_no = math.floor(\n",
    "        pet_dataset_info[pet_dataset_info[\"fold\"] == \"test\"].shape[0]\n",
    "        / classes_no\n",
    "        / class_images_per_logo\n",
    "    )\n",
    "\n",
    "    trainval_logos = qmul_openlogo_dataset[:traival_logos_no]\n",
    "    test_logos = qmul_openlogo_dataset[traival_logos_no : traival_logos_no + test_logos_no]\n",
    "\n",
    "    return trainval_logos, test_logos\n"
   ]
  },
  {
   "cell_type": "code",
   "execution_count": 55,
   "id": "75d9a20e",
   "metadata": {},
   "outputs": [],
   "source": [
    "trainval_logos, test_logos = get_logos(pet_dataset_info, qmul_openlogo_dataset, 3)"
   ]
  }
 ],
 "metadata": {
  "kernelspec": {
   "display_name": "WATERMARK_REMOVAL",
   "language": "python",
   "name": "python3"
  },
  "language_info": {
   "codemirror_mode": {
    "name": "ipython",
    "version": 3
   },
   "file_extension": ".py",
   "mimetype": "text/x-python",
   "name": "python",
   "nbconvert_exporter": "python",
   "pygments_lexer": "ipython3",
   "version": "3.13.1"
  }
 },
 "nbformat": 4,
 "nbformat_minor": 5
}
