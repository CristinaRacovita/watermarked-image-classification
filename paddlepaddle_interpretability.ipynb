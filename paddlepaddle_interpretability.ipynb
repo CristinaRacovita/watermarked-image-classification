{
 "cells": [
  {
   "cell_type": "code",
   "execution_count": 65,
   "id": "ce79c8cb-5252-458a-b8fa-01a31ae08d43",
   "metadata": {
    "tags": []
   },
   "outputs": [],
   "source": [
    "# !pip install timm\n",
    "# !pip install interpretdl\n",
    "# !pip install x2paddle\n",
    "# !pip install paddlepaddle"
   ]
  },
  {
   "cell_type": "code",
   "execution_count": 67,
   "id": "2871ce58-4cba-47d9-8e83-f250a00dc283",
   "metadata": {
    "tags": []
   },
   "outputs": [],
   "source": [
    "import torch\n",
    "import timm\n",
    "from PIL import Image\n",
    "from torchvision import transforms\n",
    "from interpretdl import GradCAMInterpreter\n",
    "from x2paddle.convert import pytorch2paddle"
   ]
  },
  {
   "cell_type": "code",
   "execution_count": 110,
   "id": "0efc37cf-dfc1-43ff-a4ce-687a93ca1125",
   "metadata": {
    "tags": []
   },
   "outputs": [
    {
     "name": "stdout",
     "output_type": "stream",
     "text": [
      "About to load state dict...\n",
      "State dict loaded successfully!\n"
     ]
    }
   ],
   "source": [
    "model = timm.create_model(\"tiny_vit_5m_224\", pretrained=False, num_classes=37)\n",
    "state_dict = torch.load(\"tinyvit_trained_model.pth\")\n",
    "print(\"About to load state dict...\")\n",
    "try:\n",
    "    model.load_state_dict(state_dict)\n",
    "    print(\"State dict loaded successfully!\")\n",
    "except Exception as e:\n",
    "    print(f\"Error while loading state dict: {e}\")\n",
    "\n",
    "# device = torch.device(\"cuda\" if torch.cuda.is_available() else \"cpu\")\n",
    "# model = model.to(device)\n",
    "_ = model.eval()"
   ]
  },
  {
   "cell_type": "code",
   "execution_count": null,
   "id": "e85bcc24-c4e4-45bf-bab4-7ab3883cfadd",
   "metadata": {},
   "outputs": [],
   "source": [
    "scripted_model = torch.jit.script(model)\n",
    "scripted_model.save(\"scripted_model.pt\")"
   ]
  },
  {
   "cell_type": "code",
   "execution_count": 102,
   "id": "02b1f7dd-d8d4-43ec-9563-eb68d40d3cec",
   "metadata": {
    "tags": []
   },
   "outputs": [
    {
     "name": "stdout",
     "output_type": "stream",
     "text": [
      "Input shape: torch.Size([4, 3, 224, 224])\n"
     ]
    }
   ],
   "source": [
    "# transform = transforms.Compose([\n",
    "#     transforms.Resize((224, 224)),  # Resize all images to 224x224\n",
    "#     transforms.ToTensor(),          # Convert to tensor\n",
    "#     transforms.Normalize(mean=[0.5, 0.5, 0.5], std=[0.5, 0.5, 0.5])  # Normalize\n",
    "# ])\n",
    "\n",
    "# image = Image.open(\"cat.jpeg\")\n",
    "# input_tensor = transform(image).unsqueeze(0)\n",
    "\n",
    "input_examples = torch.randn(1, 3, 224, 224)  # Start with 3D tensor\n",
    "# input_examples = input_examples.unsqueeze(0)  # Add batch dimension explicitly\n",
    "print(\"Input shape:\", input_examples.size())  # Should print torch.Size([1, 3, 224, 224])"
   ]
  },
  {
   "cell_type": "code",
   "execution_count": 107,
   "id": "8a1ab413-a320-4cec-aab6-4959517dec3d",
   "metadata": {
    "tags": []
   },
   "outputs": [
    {
     "name": "stderr",
     "output_type": "stream",
     "text": [
      "Now translating model from PyTorch to Paddle.\n"
     ]
    },
    {
     "name": "stdout",
     "output_type": "stream",
     "text": [
      "Unexpected exception formatting exception. Falling back to standard exception\n"
     ]
    },
    {
     "name": "stderr",
     "output_type": "stream",
     "text": [
      "Traceback (most recent call last):\n",
      "  File \"/usr/local/lib/python3.8/dist-packages/IPython/core/interactiveshell.py\", line 3508, in run_code\n",
      "    exec(code_obj, self.user_global_ns, self.user_ns)\n",
      "  File \"/tmp/ipykernel_342/2318951956.py\", line 1, in <module>\n",
      "    pytorch2paddle(module=model, save_dir=\"converted_paddle_model\", jit_type=\"script\")\n",
      "  File \"/home/jovyan/.local/lib/python3.8/site-packages/x2paddle/convert.py\", line 398, in pytorch2paddle\n",
      "    model = ScriptDecoder(module, input_examples)\n",
      "  File \"/home/jovyan/.local/lib/python3.8/site-packages/x2paddle/decoder/pytorch_decoder.py\", line 47, in __init__\n",
      "    self.script = torch.jit.script(module)\n",
      "  File \"/home/jovyan/.local/lib/python3.8/site-packages/torch/jit/_script.py\", line 1338, in script\n",
      "    if maybe_already_compiled_fn:\n",
      "  File \"/home/jovyan/.local/lib/python3.8/site-packages/torch/jit/_recursive.py\", line 558, in create_script_module\n",
      "    if isinstance(nn_module, (torch.nn.ModuleList, torch.nn.Sequential, torch.nn.ModuleDict)) and \\\n",
      "  File \"/home/jovyan/.local/lib/python3.8/site-packages/torch/jit/_recursive.py\", line 631, in create_script_module_impl\n",
      "  File \"/home/jovyan/.local/lib/python3.8/site-packages/torch/jit/_script.py\", line 647, in _construct\n",
      "    )\n",
      "  File \"/home/jovyan/.local/lib/python3.8/site-packages/torch/jit/_recursive.py\", line 607, in init_fn\n",
      "    if name in ignored_properties:\n",
      "  File \"/home/jovyan/.local/lib/python3.8/site-packages/torch/jit/_recursive.py\", line 631, in create_script_module_impl\n",
      "  File \"/home/jovyan/.local/lib/python3.8/site-packages/torch/jit/_script.py\", line 647, in _construct\n",
      "    )\n",
      "  File \"/home/jovyan/.local/lib/python3.8/site-packages/torch/jit/_recursive.py\", line 607, in init_fn\n",
      "    if name in ignored_properties:\n",
      "  File \"/home/jovyan/.local/lib/python3.8/site-packages/torch/jit/_recursive.py\", line 631, in create_script_module_impl\n",
      "  File \"/home/jovyan/.local/lib/python3.8/site-packages/torch/jit/_script.py\", line 647, in _construct\n",
      "    )\n",
      "  File \"/home/jovyan/.local/lib/python3.8/site-packages/torch/jit/_recursive.py\", line 607, in init_fn\n",
      "    if name in ignored_properties:\n",
      "  File \"/home/jovyan/.local/lib/python3.8/site-packages/torch/jit/_recursive.py\", line 635, in create_script_module_impl\n",
      "  File \"/home/jovyan/.local/lib/python3.8/site-packages/torch/jit/_recursive.py\", line 467, in create_methods_and_properties_from_stubs\n",
      "    we don't need to do AttributeTypeIsSupportedChecker because all the unsupported\n",
      "RuntimeError: Can't redefine method: forward on class: __torch__.torch.nn.modules.conv.___torch_mangle_1282.Conv2d (of Python compilation unit at: 0x341a78e0)\n",
      "\n",
      "During handling of the above exception, another exception occurred:\n",
      "\n",
      "Traceback (most recent call last):\n",
      "  File \"/usr/local/lib/python3.8/dist-packages/IPython/core/interactiveshell.py\", line 2105, in showtraceback\n",
      "    stb = self.InteractiveTB.structured_traceback(\n",
      "  File \"/usr/local/lib/python3.8/dist-packages/IPython/core/ultratb.py\", line 1396, in structured_traceback\n",
      "    return FormattedTB.structured_traceback(\n",
      "  File \"/usr/local/lib/python3.8/dist-packages/IPython/core/ultratb.py\", line 1287, in structured_traceback\n",
      "    return VerboseTB.structured_traceback(\n",
      "  File \"/usr/local/lib/python3.8/dist-packages/IPython/core/ultratb.py\", line 1140, in structured_traceback\n",
      "    formatted_exception = self.format_exception_as_a_whole(etype, evalue, etb, number_of_lines_of_context,\n",
      "  File \"/usr/local/lib/python3.8/dist-packages/IPython/core/ultratb.py\", line 1055, in format_exception_as_a_whole\n",
      "    frames.append(self.format_record(record))\n",
      "  File \"/usr/local/lib/python3.8/dist-packages/IPython/core/ultratb.py\", line 955, in format_record\n",
      "    frame_info.lines, Colors, self.has_colors, lvals\n",
      "  File \"/usr/local/lib/python3.8/dist-packages/IPython/core/ultratb.py\", line 778, in lines\n",
      "    return self._sd.lines\n",
      "  File \"/usr/local/lib/python3.8/dist-packages/stack_data/utils.py\", line 145, in cached_property_wrapper\n",
      "    value = obj.__dict__[self.func.__name__] = self.func(obj)\n",
      "  File \"/usr/local/lib/python3.8/dist-packages/stack_data/core.py\", line 734, in lines\n",
      "    pieces = self.included_pieces\n",
      "  File \"/usr/local/lib/python3.8/dist-packages/stack_data/utils.py\", line 145, in cached_property_wrapper\n",
      "    value = obj.__dict__[self.func.__name__] = self.func(obj)\n",
      "  File \"/usr/local/lib/python3.8/dist-packages/stack_data/core.py\", line 681, in included_pieces\n",
      "    pos = scope_pieces.index(self.executing_piece)\n",
      "  File \"/usr/local/lib/python3.8/dist-packages/stack_data/utils.py\", line 145, in cached_property_wrapper\n",
      "    value = obj.__dict__[self.func.__name__] = self.func(obj)\n",
      "  File \"/usr/local/lib/python3.8/dist-packages/stack_data/core.py\", line 660, in executing_piece\n",
      "    return only(\n",
      "  File \"/usr/local/lib/python3.8/dist-packages/executing/executing.py\", line 116, in only\n",
      "    raise NotOneValueFound('Expected one value, found 0')\n",
      "executing.executing.NotOneValueFound: Expected one value, found 0\n"
     ]
    }
   ],
   "source": [
    "pytorch2paddle(\n",
    "    module=scripted_model,\n",
    "    save_dir=\"paddle_model_dir\",\n",
    "    jit_type=\"script\"\n",
    ")"
   ]
  },
  {
   "cell_type": "code",
   "execution_count": 53,
   "id": "5c4f14d1-7852-4113-be1e-329825c09add",
   "metadata": {
    "tags": []
   },
   "outputs": [
    {
     "ename": "TypeError",
     "evalue": "'torch.device' object is not subscriptable",
     "output_type": "error",
     "traceback": [
      "\u001b[0;31m---------------------------------------------------------------------------\u001b[0m",
      "\u001b[0;31mTypeError\u001b[0m                                 Traceback (most recent call last)",
      "Cell \u001b[0;32mIn[53], line 1\u001b[0m\n\u001b[0;32m----> 1\u001b[0m cam \u001b[38;5;241m=\u001b[39m \u001b[43mGradCAMInterpreter\u001b[49m\u001b[43m(\u001b[49m\u001b[43mmodel\u001b[49m\u001b[43m,\u001b[49m\u001b[43m \u001b[49m\u001b[43mdevice\u001b[49m\u001b[38;5;241;43m=\u001b[39;49m\u001b[43mdevice\u001b[49m\u001b[43m)\u001b[49m\n\u001b[1;32m      2\u001b[0m explanation \u001b[38;5;241m=\u001b[39m cam\u001b[38;5;241m.\u001b[39minterpret(\u001b[38;5;124m'\u001b[39m\u001b[38;5;124mcat.jpeg\u001b[39m\u001b[38;5;124m'\u001b[39m, \u001b[38;5;124m'\u001b[39m\u001b[38;5;124mhead.fc\u001b[39m\u001b[38;5;124m'\u001b[39m, label\u001b[38;5;241m=\u001b[39m\u001b[38;5;241m37\u001b[39m)\n\u001b[1;32m      3\u001b[0m \u001b[38;5;28mprint\u001b[39m(\u001b[38;5;124m\"\u001b[39m\u001b[38;5;124mExplanation generated and saved to cam_output.png\u001b[39m\u001b[38;5;124m\"\u001b[39m)\n",
      "File \u001b[0;32m~/.local/lib/python3.8/site-packages/interpretdl/interpreter/gradient_cam.py:35\u001b[0m, in \u001b[0;36mGradCAMInterpreter.__init__\u001b[0;34m(self, model, device)\u001b[0m\n\u001b[1;32m     27\u001b[0m \u001b[38;5;28;01mdef\u001b[39;00m \u001b[38;5;21m__init__\u001b[39m(\u001b[38;5;28mself\u001b[39m, model: \u001b[38;5;28mcallable\u001b[39m, device: \u001b[38;5;28mstr\u001b[39m \u001b[38;5;241m=\u001b[39m \u001b[38;5;124m'\u001b[39m\u001b[38;5;124mgpu:0\u001b[39m\u001b[38;5;124m'\u001b[39m):\n\u001b[1;32m     28\u001b[0m \u001b[38;5;250m    \u001b[39m\u001b[38;5;124;03m\"\"\"\u001b[39;00m\n\u001b[1;32m     29\u001b[0m \u001b[38;5;124;03m    \u001b[39;00m\n\u001b[1;32m     30\u001b[0m \u001b[38;5;124;03m    Args:\u001b[39;00m\n\u001b[0;32m   (...)\u001b[0m\n\u001b[1;32m     33\u001b[0m \u001b[38;5;124;03m            etc.\u001b[39;00m\n\u001b[1;32m     34\u001b[0m \u001b[38;5;124;03m    \"\"\"\u001b[39;00m\n\u001b[0;32m---> 35\u001b[0m     \u001b[43mInterpreter\u001b[49m\u001b[38;5;241;43m.\u001b[39;49m\u001b[38;5;21;43m__init__\u001b[39;49m\u001b[43m(\u001b[49m\u001b[38;5;28;43mself\u001b[39;49m\u001b[43m,\u001b[49m\u001b[43m \u001b[49m\u001b[43mmodel\u001b[49m\u001b[43m,\u001b[49m\u001b[43m \u001b[49m\u001b[43mdevice\u001b[49m\u001b[43m)\u001b[49m\n\u001b[1;32m     36\u001b[0m     \u001b[38;5;28mself\u001b[39m\u001b[38;5;241m.\u001b[39mpaddle_prepared \u001b[38;5;241m=\u001b[39m \u001b[38;5;28;01mFalse\u001b[39;00m\n\u001b[1;32m     38\u001b[0m     \u001b[38;5;66;03m# init for usages during the interpretation.\u001b[39;00m\n",
      "File \u001b[0;32m~/.local/lib/python3.8/site-packages/interpretdl/interpreter/abc_interpreter.py:53\u001b[0m, in \u001b[0;36mInterpreter.__init__\u001b[0;34m(self, model, device, **kwargs)\u001b[0m\n\u001b[1;32m     50\u001b[0m     warnings\u001b[38;5;241m.\u001b[39mwarn(\u001b[38;5;124m'\u001b[39m\u001b[38;5;124m``use_cuda`` would be deprecated soon. Use ``device`` directly.\u001b[39m\u001b[38;5;124m'\u001b[39m, stacklevel\u001b[38;5;241m=\u001b[39m\u001b[38;5;241m2\u001b[39m)\n\u001b[1;32m     51\u001b[0m     \u001b[38;5;28mself\u001b[39m\u001b[38;5;241m.\u001b[39mdevice \u001b[38;5;241m=\u001b[39m \u001b[38;5;124m'\u001b[39m\u001b[38;5;124mgpu:0\u001b[39m\u001b[38;5;124m'\u001b[39m \u001b[38;5;28;01mif\u001b[39;00m kwargs[\u001b[38;5;124m'\u001b[39m\u001b[38;5;124muse_cuda\u001b[39m\u001b[38;5;124m'\u001b[39m] \u001b[38;5;129;01mand\u001b[39;00m device[:\u001b[38;5;241m3\u001b[39m] \u001b[38;5;241m==\u001b[39m \u001b[38;5;124m'\u001b[39m\u001b[38;5;124mgpu\u001b[39m\u001b[38;5;124m'\u001b[39m \u001b[38;5;28;01melse\u001b[39;00m \u001b[38;5;124m'\u001b[39m\u001b[38;5;124mcpu\u001b[39m\u001b[38;5;124m'\u001b[39m\n\u001b[0;32m---> 53\u001b[0m \u001b[38;5;28;01massert\u001b[39;00m \u001b[38;5;28;43mself\u001b[39;49m\u001b[38;5;241;43m.\u001b[39;49m\u001b[43mdevice\u001b[49m\u001b[43m[\u001b[49m\u001b[43m:\u001b[49m\u001b[38;5;241;43m3\u001b[39;49m\u001b[43m]\u001b[49m \u001b[38;5;129;01min\u001b[39;00m [\u001b[38;5;124m'\u001b[39m\u001b[38;5;124mcpu\u001b[39m\u001b[38;5;124m'\u001b[39m, \u001b[38;5;124m'\u001b[39m\u001b[38;5;124mgpu\u001b[39m\u001b[38;5;124m'\u001b[39m]\n",
      "\u001b[0;31mTypeError\u001b[0m: 'torch.device' object is not subscriptable"
     ]
    }
   ],
   "source": [
    "cam = GradCAMInterpreter(model, device=device)\n",
    "explanation = cam.interpret('cat.jpeg', 'head.fc', label=37)\n",
    "print(\"Explanation generated and saved to cam_output.png\")"
   ]
  },
  {
   "cell_type": "code",
   "execution_count": null,
   "id": "b6092124-c5d1-498b-98d4-6247e9f237d7",
   "metadata": {},
   "outputs": [],
   "source": []
  }
 ],
 "metadata": {
  "kernelspec": {
   "display_name": "Python",
   "language": "python",
   "name": "python3"
  },
  "language_info": {
   "codemirror_mode": {
    "name": "ipython",
    "version": 3
   },
   "file_extension": ".py",
   "mimetype": "text/x-python",
   "name": "python",
   "nbconvert_exporter": "python",
   "pygments_lexer": "ipython3",
   "version": "3.8.10"
  }
 },
 "nbformat": 4,
 "nbformat_minor": 5
}
